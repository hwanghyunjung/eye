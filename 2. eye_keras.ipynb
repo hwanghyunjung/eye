{
 "cells": [
  {
   "cell_type": "code",
   "execution_count": 1,
   "metadata": {},
   "outputs": [
    {
     "name": "stderr",
     "output_type": "stream",
     "text": [
      "Using TensorFlow backend.\n"
     ]
    }
   ],
   "source": [
    "from keras.models import Sequential\n",
    "from keras.layers import Convolution2D, MaxPooling2D\n",
    "from keras.layers import Activation, Dropout, Flatten, Dense\n",
    "from keras.utils import np_utils\n",
    "import numpy as np"
   ]
  },
  {
   "cell_type": "code",
   "execution_count": 2,
   "metadata": {},
   "outputs": [],
   "source": [
    "# 분류 대상 카테고리\n",
    "root_dir = \"./image/\"\n",
    "categories = [\"Bulging_Eyes\", \"Cataracts\", \"Crossed_Eyes\", \"Normal\", \"Uveitis\"]\n",
    "nb_classes = len(categories)\n",
    "image_size = 50"
   ]
  },
  {
   "cell_type": "code",
   "execution_count": 3,
   "metadata": {},
   "outputs": [],
   "source": [
    "# 데이터 다운로드하기 --- (※1)\n",
    "def main():\n",
    "    X_train, X_test, y_train, y_test = np.load(\"./data/eye_diseases.npy\")\n",
    "    # 데이터 정규화하기\n",
    "    X_train = X_train.astype(\"float\") / 256\n",
    "    X_test  = X_test.astype(\"float\")  / 256\n",
    "    y_train = np_utils.to_categorical(y_train, nb_classes)\n",
    "    y_test  = np_utils.to_categorical(y_test, nb_classes)\n",
    "    # 모델을 훈련하고 평가하기\n",
    "    model = model_train(X_train, y_train)\n",
    "    model_eval(model, X_test, y_test)"
   ]
  },
  {
   "cell_type": "code",
   "execution_count": 4,
   "metadata": {},
   "outputs": [],
   "source": [
    "# 모델 구축하기 --- (※2)\n",
    "def build_model(in_shape):\n",
    "    model = Sequential()\n",
    "    model.add(Convolution2D(64, 3, 3, \n",
    "                            border_mode='same',\n",
    "                            input_shape=in_shape))\n",
    "    model.add(Activation('relu'))\n",
    "    model.add(MaxPooling2D(pool_size=(2, 2)))\n",
    "    model.add(Dropout(0.25))\n",
    "    \n",
    "    model.add(Convolution2D(128, 3, 3, border_mode='same'))\n",
    "    model.add(Activation('relu'))\n",
    "    model.add(Convolution2D(128, 3, 3))\n",
    "    model.add(MaxPooling2D(pool_size=(2, 2)))\n",
    "    model.add(Dropout(0.25))\n",
    "    \n",
    "    model.add(Flatten()) \n",
    "    model.add(Dense(512,activation='relu'))\n",
    "    model.add(Activation('relu'))\n",
    "    model.add(Dropout(0.2))\n",
    "    model.add(Dense(nb_classes))\n",
    "    model.add(Activation('softmax'))\n",
    "    model.compile(loss='binary_crossentropy',\n",
    "                  optimizer='adam',\n",
    "                  metrics=['accuracy'])\n",
    "    return model"
   ]
  },
  {
   "cell_type": "code",
   "execution_count": 5,
   "metadata": {},
   "outputs": [],
   "source": [
    "# 모델 훈련하기 --- (※3)\n",
    "def model_train(X, y):\n",
    "    model = build_model(X.shape[1:])\n",
    "    model.fit(X, y, batch_size=32, nb_epoch=30)\n",
    "    # 모델 저장하기 --- (※4)\n",
    "    hdf5_file = \"./data/eye_diseases.hdf5\"\n",
    "    model.save_weights(hdf5_file)\n",
    "    return model"
   ]
  },
  {
   "cell_type": "code",
   "execution_count": 6,
   "metadata": {},
   "outputs": [
    {
     "name": "stdout",
     "output_type": "stream",
     "text": [
      "WARNING:tensorflow:From c:\\users\\user\\anaconda3\\envs\\test\\lib\\site-packages\\keras\\backend\\tensorflow_backend.py:4070: The name tf.nn.max_pool is deprecated. Please use tf.nn.max_pool2d instead.\n",
      "\n"
     ]
    },
    {
     "name": "stderr",
     "output_type": "stream",
     "text": [
      "c:\\users\\user\\anaconda3\\envs\\test\\lib\\site-packages\\ipykernel_launcher.py:6: UserWarning: Update your `Conv2D` call to the Keras 2 API: `Conv2D(64, (3, 3), input_shape=(50, 50, 3..., padding=\"same\")`\n",
      "  \n",
      "c:\\users\\user\\anaconda3\\envs\\test\\lib\\site-packages\\ipykernel_launcher.py:11: UserWarning: Update your `Conv2D` call to the Keras 2 API: `Conv2D(128, (3, 3), padding=\"same\")`\n",
      "  # This is added back by InteractiveShellApp.init_path()\n",
      "c:\\users\\user\\anaconda3\\envs\\test\\lib\\site-packages\\ipykernel_launcher.py:13: UserWarning: Update your `Conv2D` call to the Keras 2 API: `Conv2D(128, (3, 3))`\n",
      "  del sys.path[0]\n",
      "c:\\users\\user\\anaconda3\\envs\\test\\lib\\site-packages\\ipykernel_launcher.py:4: UserWarning: The `nb_epoch` argument in `fit` has been renamed `epochs`.\n",
      "  after removing the cwd from sys.path.\n"
     ]
    },
    {
     "name": "stdout",
     "output_type": "stream",
     "text": [
      "WARNING:tensorflow:From c:\\users\\user\\anaconda3\\envs\\test\\lib\\site-packages\\tensorflow\\python\\ops\\math_grad.py:1250: add_dispatch_support.<locals>.wrapper (from tensorflow.python.ops.array_ops) is deprecated and will be removed in a future version.\n",
      "Instructions for updating:\n",
      "Use tf.where in 2.0, which has the same broadcast rule as np.where\n",
      "WARNING:tensorflow:From c:\\users\\user\\anaconda3\\envs\\test\\lib\\site-packages\\keras\\backend\\tensorflow_backend.py:422: The name tf.global_variables is deprecated. Please use tf.compat.v1.global_variables instead.\n",
      "\n",
      "Epoch 1/30\n",
      "1063/1063 [==============================] - 2s 2ms/step - loss: 0.4756 - accuracy: 0.8077\n",
      "Epoch 2/30\n",
      "1063/1063 [==============================] - 0s 344us/step - loss: 0.3658 - accuracy: 0.8339\n",
      "Epoch 3/30\n",
      "1063/1063 [==============================] - 0s 348us/step - loss: 0.3398 - accuracy: 0.8455\n",
      "Epoch 4/30\n",
      "1063/1063 [==============================] - 0s 343us/step - loss: 0.3212 - accuracy: 0.8557\n",
      "Epoch 5/30\n",
      "1063/1063 [==============================] - 0s 353us/step - loss: 0.2971 - accuracy: 0.8660\n",
      "Epoch 6/30\n",
      "1063/1063 [==============================] - 0s 348us/step - loss: 0.2554 - accuracy: 0.8852\n",
      "Epoch 7/30\n",
      "1063/1063 [==============================] - 0s 347us/step - loss: 0.2407 - accuracy: 0.8950\n",
      "Epoch 8/30\n",
      "1063/1063 [==============================] - 0s 347us/step - loss: 0.2165 - accuracy: 0.9104\n",
      "Epoch 9/30\n",
      "1063/1063 [==============================] - 0s 344us/step - loss: 0.1889 - accuracy: 0.9202\n",
      "Epoch 10/30\n",
      "1063/1063 [==============================] - 0s 347us/step - loss: 0.1814 - accuracy: 0.9274\n",
      "Epoch 11/30\n",
      "1063/1063 [==============================] - 0s 347us/step - loss: 0.1341 - accuracy: 0.9471\n",
      "Epoch 12/30\n",
      "1063/1063 [==============================] - 0s 347us/step - loss: 0.1338 - accuracy: 0.9447\n",
      "Epoch 13/30\n",
      "1063/1063 [==============================] - 0s 347us/step - loss: 0.1114 - accuracy: 0.9562\n",
      "Epoch 14/30\n",
      "1063/1063 [==============================] - 0s 355us/step - loss: 0.0841 - accuracy: 0.9667\n",
      "Epoch 15/30\n",
      "1063/1063 [==============================] - 0s 347us/step - loss: 0.0691 - accuracy: 0.9737\n",
      "Epoch 16/30\n",
      "1063/1063 [==============================] - 0s 357us/step - loss: 0.0680 - accuracy: 0.9763\n",
      "Epoch 17/30\n",
      "1063/1063 [==============================] - 0s 357us/step - loss: 0.0431 - accuracy: 0.9840\n",
      "Epoch 18/30\n",
      "1063/1063 [==============================] - 0s 355us/step - loss: 0.0368 - accuracy: 0.9885\n",
      "Epoch 19/30\n",
      "1063/1063 [==============================] - 0s 352us/step - loss: 0.0300 - accuracy: 0.9895\n",
      "Epoch 20/30\n",
      "1063/1063 [==============================] - 0s 351us/step - loss: 0.0281 - accuracy: 0.9925\n",
      "Epoch 21/30\n",
      "1063/1063 [==============================] - 0s 351us/step - loss: 0.0244 - accuracy: 0.9929\n",
      "Epoch 22/30\n",
      "1063/1063 [==============================] - 0s 347us/step - loss: 0.0220 - accuracy: 0.9938\n",
      "Epoch 23/30\n",
      "1063/1063 [==============================] - 0s 349us/step - loss: 0.0164 - accuracy: 0.9960\n",
      "Epoch 24/30\n",
      "1063/1063 [==============================] - ETA: 0s - loss: 0.0168 - accuracy: 0.99 - 0s 351us/step - loss: 0.0164 - accuracy: 0.9970\n",
      "Epoch 25/30\n",
      "1063/1063 [==============================] - 0s 349us/step - loss: 0.0188 - accuracy: 0.9957\n",
      "Epoch 26/30\n",
      "1063/1063 [==============================] - 0s 347us/step - loss: 0.0181 - accuracy: 0.9944\n",
      "Epoch 27/30\n",
      "1063/1063 [==============================] - 0s 351us/step - loss: 0.0152 - accuracy: 0.9962\n",
      "Epoch 28/30\n",
      "1063/1063 [==============================] - 0s 359us/step - loss: 0.0180 - accuracy: 0.9932\n",
      "Epoch 29/30\n",
      "1063/1063 [==============================] - 0s 350us/step - loss: 0.0112 - accuracy: 0.9962\n",
      "Epoch 30/30\n",
      "1063/1063 [==============================] - 0s 349us/step - loss: 0.0082 - accuracy: 0.9977\n",
      "355/355 [==============================] - 0s 261us/step\n",
      "loss= 0.4218113323332558\n",
      "accuracy= 0.9070422649383545\n"
     ]
    }
   ],
   "source": [
    "# 모델 평가하기 --- (※5)\n",
    "def model_eval(model, X, y):\n",
    "    score = model.evaluate(X, y)\n",
    "    print('loss=', score[0])\n",
    "    print('accuracy=', score[1])\n",
    "    \n",
    "if __name__ == \"__main__\":\n",
    "    main()\n",
    "    \n",
    "# error 발생시 numpy 다운그레이징 1.16.1"
   ]
  },
  {
   "cell_type": "code",
   "execution_count": null,
   "metadata": {},
   "outputs": [],
   "source": []
  },
  {
   "cell_type": "code",
   "execution_count": null,
   "metadata": {},
   "outputs": [],
   "source": []
  }
 ],
 "metadata": {
  "kernelspec": {
   "display_name": "Python 3",
   "language": "python",
   "name": "python3"
  },
  "language_info": {
   "codemirror_mode": {
    "name": "ipython",
    "version": 3
   },
   "file_extension": ".py",
   "mimetype": "text/x-python",
   "name": "python",
   "nbconvert_exporter": "python",
   "pygments_lexer": "ipython3",
   "version": "3.6.10"
  }
 },
 "nbformat": 4,
 "nbformat_minor": 4
}
