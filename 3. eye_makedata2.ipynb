{
 "cells": [
  {
   "cell_type": "code",
   "execution_count": 1,
   "metadata": {},
   "outputs": [],
   "source": [
    "from PIL import Image\n",
    "import os, glob\n",
    "import numpy as np\n",
    "import random, math"
   ]
  },
  {
   "cell_type": "code",
   "execution_count": 2,
   "metadata": {},
   "outputs": [],
   "source": [
    "# 분류 대상 카테고리\n",
    "root_dir = \"./data/\"\n",
    "categories = [\"Bulging_Eyes\", \"Cataracts\", \"Crossed_Eyes\", \"Normal\", \"Uveitis\"]\n",
    "nb_classes = len(categories)\n",
    "image_size = 50"
   ]
  },
  {
   "cell_type": "code",
   "execution_count": 3,
   "metadata": {},
   "outputs": [],
   "source": [
    "# 이미지 데이터 읽어 들이기 --- (※1)\n",
    "X = [] # 이미지 데이터\n",
    "Y = [] # 레이블 데이터\n",
    "def add_sample(cat, fname, is_train):\n",
    "    img = Image.open(fname)\n",
    "    img = img.convert(\"RGB\") # 색상 모드 변경하기\n",
    "    img = img.resize((image_size, image_size)) # 이미지 크기 변경하기\n",
    "    data = np.asarray(img)\n",
    "    X.append(data)\n",
    "    Y.append(cat)\n",
    "    if not is_train: return\n",
    "    # 각도를 조금 변경한 파일 추가하기\n",
    "    # 회전하기\n",
    "    for ang in range(-20, 20, 5):\n",
    "        img2 = img.rotate(ang)\n",
    "        data = np.asarray(img2)\n",
    "        X.append(data)\n",
    "        Y.append(cat)\n",
    "        # img2.save(\"gyudon-\"+str(ang)+\".PNG\")\n",
    "        # 반전하기\n",
    "        img2 = img2.transpose(Image.FLIP_LEFT_RIGHT)\n",
    "        data = np.asarray(img2)\n",
    "        X.append(data)\n",
    "        Y.append(cat)\n",
    "def make_sample(files, is_train):\n",
    "    global X, Y\n",
    "    X = []; Y = []\n",
    "    for cat, fname in files:\n",
    "        add_sample(cat, fname, is_train)\n",
    "    return np.array(X), np.array(Y)"
   ]
  },
  {
   "cell_type": "code",
   "execution_count": 4,
   "metadata": {},
   "outputs": [],
   "source": [
    "# 각 폴더에 들어있는 파일 수집하기 --- (※2)\n",
    "allfiles = []\n",
    "for idx, cat in enumerate(categories):\n",
    "    image_dir = root_dir + \"/\" + cat\n",
    "    files = glob.glob(image_dir + \"/*.jpg\")\n",
    "    for f in files:\n",
    "        allfiles.append((idx, f))"
   ]
  },
  {
   "cell_type": "code",
   "execution_count": 5,
   "metadata": {},
   "outputs": [
    {
     "name": "stdout",
     "output_type": "stream",
     "text": [
      "ok, 14450\n"
     ]
    }
   ],
   "source": [
    "# 섞은 뒤에 학습 전용 데이터와 테스트 전용 데이터 구분하기 --- (※3)\n",
    "random.shuffle(allfiles)\n",
    "th = math.floor(len(allfiles) * 0.6)\n",
    "train = allfiles[0:th]\n",
    "test  = allfiles[th:]\n",
    "X_train, y_train = make_sample(train, True)\n",
    "X_test, y_test = make_sample(test, False)\n",
    "\n",
    "xy = (X_train, X_test, y_train, y_test)\n",
    "np.save(\"./data/eye_diseases2.npy\", xy)\n",
    "print(\"ok,\", len(y_train))"
   ]
  },
  {
   "cell_type": "code",
   "execution_count": null,
   "metadata": {},
   "outputs": [],
   "source": []
  },
  {
   "cell_type": "code",
   "execution_count": null,
   "metadata": {},
   "outputs": [],
   "source": []
  },
  {
   "cell_type": "code",
   "execution_count": null,
   "metadata": {},
   "outputs": [],
   "source": []
  }
 ],
 "metadata": {
  "kernelspec": {
   "display_name": "Python 3",
   "language": "python",
   "name": "python3"
  },
  "language_info": {
   "codemirror_mode": {
    "name": "ipython",
    "version": 3
   },
   "file_extension": ".py",
   "mimetype": "text/x-python",
   "name": "python",
   "nbconvert_exporter": "python",
   "pygments_lexer": "ipython3",
   "version": "3.6.10"
  }
 },
 "nbformat": 4,
 "nbformat_minor": 4
}
