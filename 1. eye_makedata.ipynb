{
 "cells": [
  {
   "cell_type": "code",
   "execution_count": 1,
   "metadata": {},
   "outputs": [
    {
     "name": "stdout",
     "output_type": "stream",
     "text": [
      "--- Bulging_Eyes 처리 중\n",
      "--- Cataracts 처리 중\n",
      "--- Crossed_Eyes 처리 중\n",
      "--- Normal 처리 중\n",
      "--- Uveitis 처리 중\n",
      "ok, 1418\n"
     ]
    }
   ],
   "source": [
    "from sklearn import model_selection\n",
    "from sklearn.model_selection import train_test_split\n",
    "from PIL import Image\n",
    "import os, glob\n",
    "import numpy as np\n",
    "# 분류 대상 카테고리 --- (※1)\n",
    "root_dir = \"./data/\"\n",
    "categories = [\"Bulging_Eyes\", \"Cataracts\", \"Crossed_Eyes\", \"Normal\", \"Uveitis\"]\n",
    "nb_classes = len(categories)\n",
    "image_size = 50\n",
    "# 폴더마다의 이미지 데이터 읽어 들이기 --- (※2)\n",
    "X = [] # 이미지 데이터\n",
    "Y = [] # 레이블 데이터\n",
    "for idx, cat in enumerate(categories):\n",
    "    image_dir = root_dir + \"/\" + cat\n",
    "    files = glob.glob(image_dir + \"/*.jpg\")\n",
    "    print(\"---\", cat, \"처리 중\")\n",
    "    for i, f in enumerate(files):\n",
    "        img = Image.open(f)\n",
    "        img = img.convert(\"RGB\") # 색상 모드 변경\n",
    "        img = img.resize((image_size, image_size)) # 이미지 크기 변경\n",
    "        data = np.asarray(img)\n",
    "        X.append(data)\n",
    "        Y.append(idx)\n",
    "X = np.array(X)\n",
    "Y = np.array(Y)\n",
    "# 학습 전용 데이터와 테스트 전용 데이터 분류하기 --- (※3)\n",
    "X_train, X_test, y_train, y_test = \\\n",
    "    train_test_split(X, Y)\n",
    "xy = (X_train, X_test, y_train, y_test)\n",
    "np.save(\"./data/eye_diseases.npy\", xy)\n",
    "print(\"ok,\", len(Y))"
   ]
  },
  {
   "cell_type": "code",
   "execution_count": null,
   "metadata": {},
   "outputs": [],
   "source": []
  }
 ],
 "metadata": {
  "kernelspec": {
   "display_name": "Python 3",
   "language": "python",
   "name": "python3"
  },
  "language_info": {
   "codemirror_mode": {
    "name": "ipython",
    "version": 3
   },
   "file_extension": ".py",
   "mimetype": "text/x-python",
   "name": "python",
   "nbconvert_exporter": "python",
   "pygments_lexer": "ipython3",
   "version": "3.6.10"
  }
 },
 "nbformat": 4,
 "nbformat_minor": 4
}
